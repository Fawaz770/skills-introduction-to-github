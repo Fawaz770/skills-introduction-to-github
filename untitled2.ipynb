{
  "nbformat": 4,
  "nbformat_minor": 0,
  "metadata": {
    "colab": {
      "provenance": [],
      "toc_visible": true,
      "authorship_tag": "ABX9TyN/MeZQsAT3Rre2TMgkvp9G",
      "include_colab_link": true
    },
    "kernelspec": {
      "name": "python3",
      "display_name": "Python 3"
    },
    "language_info": {
      "name": "python"
    }
  },
  "cells": [
    {
      "cell_type": "markdown",
      "metadata": {
        "id": "view-in-github",
        "colab_type": "text"
      },
      "source": [
        "<a href=\"https://colab.research.google.com/github/Fawaz770/skills-introduction-to-github/blob/main/untitled2.ipynb\" target=\"_parent\"><img src=\"https://colab.research.google.com/assets/colab-badge.svg\" alt=\"Open In Colab\"/></a>"
      ]
    },
    {
      "cell_type": "code",
      "execution_count": 30,
      "metadata": {
        "colab": {
          "base_uri": "https://localhost:8080/"
        },
        "id": "fBU7VDTzRQaV",
        "outputId": "f9664cd5-318b-489b-83ba-061aecae3e68"
      },
      "outputs": [
        {
          "output_type": "stream",
          "name": "stdout",
          "text": [
            "1\n",
            "one\n",
            "[1, 'one', 3, 5.0, 6]\n"
          ]
        }
      ],
      "source": [
        "\n",
        "my_list = [1,2,3,\"four\",5.0]\n",
        "print(my_list[0])\n",
        "\n",
        "my_list[1]= \"one\"\n",
        "print(my_list[1])\n",
        "\n",
        "my_list.append(6)\n",
        "my_list.remove(\"four\")\n",
        "print(my_list)\n"
      ]
    },
    {
      "cell_type": "code",
      "source": [
        "def great (name):\n",
        "  print (name*2)\n",
        "great(2)\n",
        "\n"
      ],
      "metadata": {
        "id": "tqNKXAqdiJ6o",
        "outputId": "52c0df50-9b90-448f-8fa1-3ea692b29699",
        "colab": {
          "base_uri": "https://localhost:8080/"
        }
      },
      "execution_count": 31,
      "outputs": [
        {
          "output_type": "stream",
          "name": "stdout",
          "text": [
            "4\n"
          ]
        }
      ]
    },
    {
      "cell_type": "markdown",
      "source": [
        "# first day\n",
        "\n"
      ],
      "metadata": {
        "id": "3KzEE0v4RXw9"
      }
    },
    {
      "cell_type": "code",
      "source": [
        "# dictionaries\n",
        "\n",
        "my_dict = {\"name\": \"fawaz\",\"age\":22,\"major\":\"cs\"}\n",
        "\n",
        "#الوصول للقيم\n",
        "value = my_dict[\"name\"]\n",
        "\n",
        "# تعديل القيم\n",
        "my_dict[\"name\"] = \"saeed\"\n",
        "\n",
        "\n",
        "# ازالة عنصر\n",
        "del my_dict[\"age\"]\n",
        "print(my_dict)\n",
        "\n",
        "\n",
        "\n"
      ],
      "metadata": {
        "id": "t3wgLM-Jc3IW",
        "outputId": "3e14c65a-21aa-4ec8-9692-bb9c1d7d945f",
        "colab": {
          "base_uri": "https://localhost:8080/"
        }
      },
      "execution_count": 29,
      "outputs": [
        {
          "output_type": "stream",
          "name": "stdout",
          "text": [
            "{'name': 'saeed', 'major': 'cs'}\n"
          ]
        }
      ]
    },
    {
      "cell_type": "code",
      "source": [
        "age= 25\n",
        "\n",
        "if age>=50:\n",
        "  print(\"yue big \")\n",
        "\n",
        "elif age >20:\n",
        "  print(\"yue mid old\")\n",
        "\n",
        "else :\n",
        "  print(\"yue smoll\")"
      ],
      "metadata": {
        "id": "b0sUa17XkQmI",
        "outputId": "dcea1a3f-7695-47e5-9c52-f52ac24dd53d",
        "colab": {
          "base_uri": "https://localhost:8080/"
        }
      },
      "execution_count": 35,
      "outputs": [
        {
          "output_type": "stream",
          "name": "stdout",
          "text": [
            "yue mid old\n"
          ]
        }
      ]
    }
  ]
}